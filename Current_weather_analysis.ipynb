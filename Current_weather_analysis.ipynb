{
 "cells": [
  {
   "cell_type": "markdown",
   "metadata": {},
   "source": [
    "## Author- Prateek Shrivastava"
   ]
  },
  {
   "cell_type": "markdown",
   "metadata": {},
   "source": [
    "### First Identify the open web APIs\n",
    "API Chosen:\n",
    "\n",
    "A single API that was chosen for this project was that provided by https://openweathermap.org/\n",
    "\n",
    "To see this API we need to register first which allows us to get the free 60 day trial. This API has the many option I choose by Zip code option. \n",
    "After signing up, I got a API key which I have used to get the current weather data on the basis of zip code and country code."
   ]
  },
  {
   "cell_type": "markdown",
   "metadata": {},
   "source": [
    "#### Importing the necessary libraries used in this project:"
   ]
  },
  {
   "cell_type": "code",
   "execution_count": 435,
   "metadata": {},
   "outputs": [],
   "source": [
    "import bs4\n",
    "import os\n",
    "import urllib.request\n",
    "import csv\n",
    "import pandas as pd \n",
    "import requests\n",
    "import json\n",
    "from bs4 import BeautifulSoup\n",
    "import pandas as pd\n",
    "import datetime\n",
    "import numpy as np\n",
    "import matplotlib\n",
    "import matplotlib.pyplot as plt\n",
    "%matplotlib inline\n",
    "import plotly\n",
    "import plotly.plotly as py\n",
    "import plotly.graph_objs as go\n",
    "import seaborn as sns\n",
    "import matplotlib.pyplot as plt\n",
    "from scipy.stats import norm\n",
    "import datetime\n",
    "from datetime import timedelta\n",
    "\n",
    "\n",
    "#import plotly as py"
   ]
  },
  {
   "cell_type": "markdown",
   "metadata": {},
   "source": [
    "## Second: Collect data your chosen API(s)\n",
    "### Collecting Raw Data - Functions needed:\n",
    "### The API gives the current up to date data\n",
    "#### The following 3 functions were written to allow multiple calls of the API as only limited data is available per call.\n",
    "#### These function are commented throughout and are called below:"
   ]
  },
  {
   "cell_type": "code",
   "execution_count": 3,
   "metadata": {},
   "outputs": [],
   "source": [
    "def create_file (file_loc, headings): # This is method used to create the file\n",
    "    with open(file_loc, \"w\",newline='') as write_file:    # used the w option to write the file into the location\n",
    "        f = csv.writer(write_file)   # writing the csv file\n",
    "        # The below is the header of the csv ile.\n",
    "        f.writerow([\"Cloudiness\", \"Weather_type\", \"latitude\", \"longitude\", \"City_id\", \"Visibility\", \"CountryID\", \"Country\", \"Sunrise_Time\", \"Sunset_Time\", \"Temperature\", \"humidity\", \"pressure\", \"Min_temp\", \"Max_temp\",\"Wind_Speeed\", \"Wind_Dire\",\"Data_cal_Time\", \"cod\" ])\n",
    "    write_file.close()\n",
    "\n",
    "#function to call the API, retreive the raw csv data, and write to a file\n",
    "def get_and_write_data(link, file_loc):      # This is the method for writing the data into csv file\n",
    "    response = urllib.request.urlopen(link)  # taking the response of the API request\n",
    "    html = response.read().decode() # decoding the response\n",
    "    data = json.loads(html) # parsing the response into the JSON which gives a dictionary type output consist key and values. \n",
    "    \n",
    "    with open(file_loc, \"a\", newline='') as write_file: #open the file /create it, newline ='' to prevent blank lines being written and used the \"a\" option to append the rows. \n",
    "        f = csv.writer(write_file)\n",
    "        f = csv.writer(write_file)\n",
    "        \n",
    "        wem= dict(data[\"weather\"][0])  # As the weather key is the only key has the importtant data so I have filtered the other out.\n",
    "        f.writerow([data[\"clouds\"][\"all\"], wem[\"main\"],data[\"coord\"][\"lat\"],data[\"coord\"][\"lon\"],data[\"id\"],\\\n",
    "                    data[\"visibility\"],data[\"sys\"][\"id\"],data[\"sys\"][\"country\"], \\\n",
    "                    datetime.datetime.fromtimestamp(int(data[\"sys\"][\"sunrise\"])).strftime('%Y-%m-%d %H:%M:%S'),\\\n",
    "                    datetime.datetime.fromtimestamp(int(data[\"sys\"][\"sunset\"])).strftime('%Y-%m-%d %H:%M:%S'),\\\n",
    "                    data[\"main\"][\"temp\"], data[\"main\"][\"humidity\"],data[\"main\"][\"pressure\"], data[\"main\"][\"temp_min\"],\\\n",
    "                    data[\"main\"][\"temp_max\"], data[\"wind\"][\"speed\"], data[\"wind\"][\"deg\"],\\\n",
    "                    datetime.datetime.fromtimestamp(int(data[\"dt\"])).strftime('%Y-%m-%d %H:%M:%S'),data[\"cod\"]])\n",
    "# above writing the rows as per the values prsent in the key of the json dictinary.\n",
    "        \n",
    "    write_file.close()\n",
    "    \n",
    "# function to take in parameters set and then use this data to build a link to be passed into the get_and_write_data function    \n",
    "def get_raw_data(file_loc,api_key, a,cc):\n",
    "    link=[]\n",
    "    i=0\n",
    "    \n",
    "    while i<len(a):   # used loop to fetch the link as many time as data is needed. \"a\" is defined in the below cell.\n",
    "        s1= str(a[i])\n",
    "        y1= \"http://api.openweathermap.org/data/2.5/weather?zip=\"+s1+\",\"+cc+akey   # putting the varialbe in the API to request with diffrent data\n",
    "        #print(s1)\n",
    "        # y2= requests.get(y1, params = akey)\n",
    "        print(y2)\n",
    "        #link.append(y2.text)\n",
    "        i+=1\n",
    "        get_and_write_data(y1, file_loc) # calling the get_and_write_data method with filename and link for fetching the API data above\n",
    "    "
   ]
  },
  {
   "cell_type": "markdown",
   "metadata": {},
   "source": [
    "<h2>Now Parse the collected data, and store it in an appropriate file format<h2>"
   ]
  },
  {
   "cell_type": "markdown",
   "metadata": {},
   "source": [
    "#### To get more data to compare I have called the API twise as once here and again after one day"
   ]
  },
  {
   "cell_type": "markdown",
   "metadata": {},
   "source": [
    "### The first call:"
   ]
  },
  {
   "cell_type": "code",
   "execution_count": 2,
   "metadata": {},
   "outputs": [
    {
     "name": "stdout",
     "output_type": "stream",
     "text": [
      "Raw Data Collection Completed \n",
      "\n"
     ]
    }
   ],
   "source": [
    "# Below I am calling the above made function create_file for creating the csv file \n",
    "\n",
    "create_file(\"raw_file_IP.csv\", \"\") # this will create the csv file without header in your path direcory.\n",
    "# As API is fetch the current data so due to bad network connection somethimes it shows error when calling the API for whole data\n",
    "# So I am calling the API as per the country zip code seperatly so load can be diverted.\n",
    "\n",
    "akey =\"Put your API key\"   # This is the API key for the API I got.\n",
    "# Below are the list of zip codes of US which are the necessary parameters to the API.\n",
    "zipUS = [94111,94209,94203,94028,94022,90210,30144,10001,10002,10003,10004,10005,10007,10010,23185,28080,28092,28262,\n",
    "     30004,30342,32118,32207,32301,32401,10013,10014,10014,10017,10018,10019,10020,10021,10022,10023,10024,10025,10028,10036,\n",
    "    32541,32608,32780,32926,33004,33012,33019,33040,33060,33062,33127,33133,33137,33139,33141,33442,33458,33480,\n",
    "    33510,33549,33566,33618,33616,33615,33614,33613,33612,33611,33610,33609,33606,33604,33603,33570,10502,10506,10520,10533,\n",
    "    10550,20005,20007,20036,20850,22201,22314,23185,28080,28092,28262,30005,30013,30022,30067,30075,30083,30084,30096]\n",
    "\n",
    "get_raw_data(\"raw_file_IP.csv\",akey, zipUS,\"US\")  # callig the get_raw_data function which get the API parameters from this call and fetch the API link and auto call the get_and_write_data method for fetching the API data\n",
    "# The file name is passed which is created in create_file method above\n",
    "#For second call for india:\n",
    "# Below is the list of zip code of India\n",
    "zipIN=[380026,380007,382115,380006,380015,380001,382220,382120,562106,560024,562106,560056,560068,560001,560064,560087,562107,\n",
    "       560086,560002,560070,560064,560073,560053,560085,560043,560017,560007,560092,560024,562106,560003,562107,560026,400099,\n",
    "       400053,400058,400005,400053,400051,400050,560063,110022,560030, 560034,400001,400007,400028,400091,400066,\n",
    "       400020,400009,400026,400068]\n",
    "get_raw_data(\"raw_file_IP.csv\",akey, zipIN,\"IN\") # calling the get_raw_data method with the parameters for India\n",
    "\n",
    "# For Austrelia\n",
    "# below is the zip code of Australia\n",
    "zipAU=[3000,6000,4000,5000,7000,2600,2619,2620,2060,2148,2200,2450,2420,2611,2540,2031,2750,2570,2299,4300,4305,4502,2900,4700,3122,3691,3123,\n",
    "4350,2150,3123,4350,2150,6160,4029,2088,3067,3021]\n",
    "get_raw_data(\"raw_file_IP.csv\",akey, zipAU,\"AU\") #Calling with parameters of Australia \n",
    "\n",
    "# for new zealand\n",
    "# Below is the list of new zealand zip codes\n",
    "zipNW=[8011,8022,8011,8013,8053,7670,8061,7520,8062,7691,7581,8041,5713,6011,2025,1025,3581,5010,1026,7682,2582]\n",
    "get_raw_data(\"raw_file_IP.csv\",akey, zipNW,\"NZ\") #Calling with parameters of New Zealand \n",
    "\n",
    "\n",
    "print(\"Raw Data Collection Completed \\n\")\n",
    "\n",
    "# All the zip code and country codes are taken from https://openweathermap.org/current site."
   ]
  },
  {
   "cell_type": "markdown",
   "metadata": {},
   "source": [
    "### The second call (after one day)"
   ]
  },
  {
   "cell_type": "code",
   "execution_count": null,
   "metadata": {},
   "outputs": [],
   "source": [
    "# Below I am calling the above made function create_file for creating the csv file \n",
    "\n",
    "create_file(\"Update_Raw_file_IP.csv\", \"\") # this will create the csv file without header in your path direcory.\n",
    "# As API is fetch the current data so due to bad network connection somethimes it shows error when calling the API for whole data\n",
    "# So I am calling the API as per the country zip code seperatly so load can be diverted.\n",
    "\n",
    "akey =\"Put your API key\"  # This is the API key for the API I got.\n",
    "# Below are the list of zip codes of US which are the necessary parameters to the API.\n",
    "\n",
    "zipUS = [94111,94209,94203,94028,94022,90210,30144,10001,10002,10003,10004,10005,10007,10010,23185,28080,28092,28262,\n",
    "     30004,30342,32118,32207,32301,32401,10013,10014,10014,10017,10018,10019,10020,10021,10022,10023,10024,10025,10028,10036,\n",
    "    32541,32608,32780,32926,33004,33012,33019,33040,33060,33062,33127,33133,33137,33139,33141,33442,33458,33480,\n",
    "    33510,33549,33566,33618,33616,33615,33614,33613,33612,33611,33610,33609,33606,33604,33603,33570,10502,10506,10520,10533,\n",
    "    10550,20005,20007,20036,20850,22201,22314,23185,28080,28092,28262,30005,30013,30022,30067,30075,30083,30084,30096]\n",
    "get_raw_data(\"Update_Raw_file_IP.csv\",akey, zipUS,\"US\")# callig the get_raw_data function which get the API parameters from this call and fetch the API link and auto call the get_and_write_data method for fetching the API data\n",
    "# The file name is passed which is created in create_file method above\n",
    "#For second call for india:\n",
    "# Below is the list of zip code of India\n",
    "\n",
    "zipIN=[380026,380007,382115,380006,380015,380001,382220,382120,562106,560024,562106,560056,560068,560001,560064,560087,562107,\n",
    "       560086,560002,560070,560064,560073,560053,560085,560043,560017,560007,560092,560024,562106,560003,562107,560026,400099,\n",
    "       400053,400058,400005,400053,400051,400050,560063,110022,560030, 560034,400001,400007,400028,400091,400066,\n",
    "       400020,400009,400026,400068]\n",
    "get_raw_data(\"Update_Raw_file_IP.csv\",akey, zipIN,\"IN\") # calling the get_raw_data method with the parameters for India\n",
    "\n",
    "# For Austrelia\n",
    "# below is the zip code of Australia\n",
    "\n",
    "zipAU=[3000,6000,4000,5000,7000,2600,2619,2620,2060,2148,2200,2450,2420,2611,2540,2031,2750,2570,2299,4300,4305,4502,2900,4700,3122,3691,3123,\n",
    "4350,2150,3123,4350,2150,6160,4029,2088,3067,3021]\n",
    "get_raw_data(\"Update_Raw_file_IP.csv\",akey, zipAU,\"AU\") #Calling with parameters of Australia \n",
    "\n",
    "# for new zealand\n",
    "# Below is the list of new zealand zip codes\n",
    "\n",
    "zipNW=[8011,8022,8011,8013,8053,7670,8061,7520,8062,7691,7581,8041,5713,6011,2025,1025,3581,5010,1026,7682,2582]\n",
    "get_raw_data(\"Update_Raw_file_IP.csv\",akey, zipNW,\"NZ\") # calling the method with new zew zeland parameters.\n",
    "\n",
    "\n",
    "print(\"Raw Data Collection Completed \\n\")\n",
    "# All the zip code and country codes are taken from https://openweathermap.org/current site."
   ]
  },
  {
   "cell_type": "markdown",
   "metadata": {},
   "source": [
    "## Load and represent the data using an appropriate data structure. Apply any pre-processing steps to clean/filter/combine the data"
   ]
  },
  {
   "cell_type": "code",
   "execution_count": 16,
   "metadata": {},
   "outputs": [],
   "source": [
    "# taking data into pandas\n",
    "weather_data_raw = pd.read_csv(\"raw_file_IP.csv\")  # This is a csv made in my first above call.\n",
    "weather_data_Updated_raw = pd.read_csv(\"Update_raw_file_IP.csv\") # this is the csv made in second above call"
   ]
  },
  {
   "cell_type": "markdown",
   "metadata": {},
   "source": [
    "### Preparing the data, removing the colums from the raw data which are not usefull in analysis"
   ]
  },
  {
   "cell_type": "code",
   "execution_count": 25,
   "metadata": {},
   "outputs": [],
   "source": [
    "# Dropping the data which are not usefull in analysis using drop feature of pandas\n",
    "weather_data = weather_data_raw.drop(['latitude', 'longitude', 'City_id', 'CountryID', 'Wind_Dire', 'cod' ], axis=1) # axis=1 so it drop columns bise\n",
    "weather_data_Updated = weather_data_Updated_raw.drop(['latitude', 'longitude', 'City_id', 'CountryID', 'cod' ], axis=1)"
   ]
  },
  {
   "cell_type": "markdown",
   "metadata": {},
   "source": [
    "### To check the data after reducing the size"
   ]
  },
  {
   "cell_type": "code",
   "execution_count": 634,
   "metadata": {
    "collapsed": true
   },
   "outputs": [
    {
     "name": "stdout",
     "output_type": "stream",
     "text": [
      "The first weather data recorded\n",
      "object     6\n",
      "float64    4\n",
      "int64      4\n",
      "dtype: int64\n",
      "(206, 14)\n",
      "Cloudiness       0\n",
      "Weather_type     0\n",
      "Visibility       0\n",
      "Country          0\n",
      "Sunrise_Time     0\n",
      "Sunset_Time      0\n",
      "Temperature      0\n",
      "humidity         0\n",
      "pressure         0\n",
      "Min_temp         0\n",
      "Max_temp         0\n",
      "Wind_Speeed      0\n",
      "Data_cal_Time    0\n",
      "cal_day          0\n",
      "dtype: int64\n",
      "weather data recorded day after First record \n",
      "object     5\n",
      "float64    4\n",
      "int64      4\n",
      "dtype: int64\n",
      "(180, 13)\n",
      "Cloudiness       0\n",
      "Weather_type     0\n",
      "Visibility       0\n",
      "Country          0\n",
      "Sunrise_Time     0\n",
      "Sunset_Time      0\n",
      "Temperature      0\n",
      "humidity         0\n",
      "pressure         0\n",
      "Min_temp         0\n",
      "Max_temp         0\n",
      "Wind_Speeed      0\n",
      "Data_cal_Time    0\n",
      "dtype: int64\n"
     ]
    }
   ],
   "source": [
    "list_data=[\"The first weather data recorded\",\"weather data recorded day after First record \"] # creating list of test needed to show in a loop\n",
    "count=0\n",
    "for i in (weather_data,weather_data_Updated):\n",
    "    print(list_data[count])  # simply print the text above defined\n",
    "    print(i.dtypes.value_counts())\n",
    "    print(i.shape) # print the shape in rows and columns\n",
    "    print(i.isnull().sum()) # no missing values in the reduced dataset \n",
    "    count+=1"
   ]
  },
  {
   "cell_type": "markdown",
   "metadata": {},
   "source": [
    "## Simplyfing the data for the analysis and visualisation"
   ]
  },
  {
   "cell_type": "code",
   "execution_count": 662,
   "metadata": {},
   "outputs": [],
   "source": [
    "# Here, taking the count of the rows on the basis of the condition provided.\n",
    "# I am storing the the first value of the the output of the shape function on data frame so I get the count of the rows for given\n",
    "# weather type.\n",
    "ra= weather_data[weather_data[\"Weather_type\"]=='Rain'].shape   # Gives the shape of the data frame\n",
    "rain_data=ra[0]\n",
    "cld= weather_data[weather_data[\"Weather_type\"]=='Clouds'].shape\n",
    "clou_data=cld[0]\n",
    "cle= weather_data[weather_data[\"Weather_type\"]=='Clear'].shape\n",
    "clear_data=cle[0]\n",
    "dz= weather_data[weather_data[\"Weather_type\"]=='Drizzle'].shape\n",
    "Dri_data=dz[0]\n",
    "fg= weather_data[weather_data[\"Weather_type\"]=='Fog'].shape\n",
    "fog_data=fg[0]\n",
    "sm= weather_data[weather_data[\"Weather_type\"]=='Smoke'].shape\n",
    "smok_data=sm[0]\n",
    "hz= weather_data[weather_data[\"Weather_type\"]=='Haze'].shape\n",
    "haze_data=hz[0]\n",
    "wd=weather_data.shape  # this will give the total numbers of rows and columns present in the data frame\n",
    "wd_total= wd[0]  # here I have sliced the row clount"
   ]
  },
  {
   "cell_type": "code",
   "execution_count": 637,
   "metadata": {},
   "outputs": [],
   "source": [
    "data_per=[]\n",
    "dataper= [rain_data,clou_data,clear_data,Dri_data,fog_data,smok_data,haze_data] # creating list of the above made varibale used in the below loop\n",
    "for i in dataper:\n",
    "    loc= i/wd_total    # I am dividing the row count of the above mentioned condition and divide that with total number of the rows\n",
    "    data_per.append(loc) # appending the loop output into the list defined at top corner\n",
    "    \n",
    "per=pd.DataFrame(data_per) # converting the list into the data frame which contains percentage of each weather type     \n",
    "\n",
    "Wet_type= pd.DataFrame([\"rain\", \"clouds\", \"clear\", \"Drizzle\", \"fog\", \"smoke\", \"Haze\"]) # creating teh data frame for weather type name\n",
    "Wet_type.columns=[\"Weather\"] # putting the coulmn names here\n",
    "per.columns=[\"Percentage\"] # putting the coulmn name here"
   ]
  },
  {
   "cell_type": "code",
   "execution_count": 34,
   "metadata": {
    "collapsed": true
   },
   "outputs": [
    {
     "name": "stdout",
     "output_type": "stream",
     "text": [
      "weather data of US\n",
      "object     5\n",
      "float64    4\n",
      "int64      4\n",
      "dtype: int64\n",
      "(95, 13)\n",
      "Cloudiness       0\n",
      "Weather_type     0\n",
      "Visibility       0\n",
      "Country          0\n",
      "Sunrise_Time     0\n",
      "Sunset_Time      0\n",
      "Temperature      0\n",
      "humidity         0\n",
      "pressure         0\n",
      "Min_temp         0\n",
      "Max_temp         0\n",
      "Wind_Speeed      0\n",
      "Data_cal_Time    0\n",
      "dtype: int64\n",
      "weather data of India\n",
      "object     5\n",
      "float64    4\n",
      "int64      4\n",
      "dtype: int64\n",
      "(53, 13)\n",
      "Cloudiness       0\n",
      "Weather_type     0\n",
      "Visibility       0\n",
      "Country          0\n",
      "Sunrise_Time     0\n",
      "Sunset_Time      0\n",
      "Temperature      0\n",
      "humidity         0\n",
      "pressure         0\n",
      "Min_temp         0\n",
      "Max_temp         0\n",
      "Wind_Speeed      0\n",
      "Data_cal_Time    0\n",
      "dtype: int64\n",
      "weather data of australia\n",
      "object     5\n",
      "float64    4\n",
      "int64      4\n",
      "dtype: int64\n",
      "(37, 13)\n",
      "Cloudiness       0\n",
      "Weather_type     0\n",
      "Visibility       0\n",
      "Country          0\n",
      "Sunrise_Time     0\n",
      "Sunset_Time      0\n",
      "Temperature      0\n",
      "humidity         0\n",
      "pressure         0\n",
      "Min_temp         0\n",
      "Max_temp         0\n",
      "Wind_Speeed      0\n",
      "Data_cal_Time    0\n",
      "dtype: int64\n",
      "weather data of New Zealand\n",
      "object     5\n",
      "float64    4\n",
      "int64      4\n",
      "dtype: int64\n",
      "(21, 13)\n",
      "Cloudiness       0\n",
      "Weather_type     0\n",
      "Visibility       0\n",
      "Country          0\n",
      "Sunrise_Time     0\n",
      "Sunset_Time      0\n",
      "Temperature      0\n",
      "humidity         0\n",
      "pressure         0\n",
      "Min_temp         0\n",
      "Max_temp         0\n",
      "Wind_Speeed      0\n",
      "Data_cal_Time    0\n",
      "dtype: int64\n"
     ]
    }
   ],
   "source": [
    "# This is for previous data\n",
    "# Simplyfing the data as per the country:\n",
    "\n",
    "weather_data_US= weather_data[weather_data[\"Country\"]==\"US\"] # using == operator getting all the rows which contains only US in country column\n",
    "weather_data_IN= weather_data[weather_data[\"Country\"]==\"IN\"]\n",
    "weather_data_AU= weather_data[weather_data[\"Country\"]==\"AU\"]\n",
    "weather_data_NZ= weather_data[weather_data[\"Country\"]==\"NZ\"]\n",
    "\n",
    "#look for missing data\n",
    "list_of_data=[\"weather data of US\",\"weather data of India\",\"weather data of australia\",\"weather data of New Zealand\"]\n",
    "s=0\n",
    "for i in (weather_data_US,weather_data_IN,weather_data_AU,weather_data_NZ):\n",
    "    print(list_of_data[s])\n",
    "    print(i.dtypes.value_counts())\n",
    "    print(i.shape)\n",
    "    print(i.isnull().sum()) # no missing values in the reduced dataset \n",
    "    s+=1\n",
    "    "
   ]
  },
  {
   "cell_type": "code",
   "execution_count": 195,
   "metadata": {
    "collapsed": true
   },
   "outputs": [
    {
     "name": "stdout",
     "output_type": "stream",
     "text": [
      "updated weather data of US\n",
      "object     5\n",
      "float64    4\n",
      "int64      4\n",
      "dtype: int64\n",
      "(95, 13)\n",
      "Cloudiness       0\n",
      "Weather_type     0\n",
      "Visibility       0\n",
      "Country          0\n",
      "Sunrise_Time     0\n",
      "Sunset_Time      0\n",
      "Temperature      0\n",
      "humidity         0\n",
      "pressure         0\n",
      "Min_temp         0\n",
      "Max_temp         0\n",
      "Wind_Speeed      0\n",
      "Data_cal_Time    0\n",
      "dtype: int64\n",
      "updated weather data of India\n",
      "object     5\n",
      "float64    4\n",
      "int64      4\n",
      "dtype: int64\n",
      "(53, 13)\n",
      "Cloudiness       0\n",
      "Weather_type     0\n",
      "Visibility       0\n",
      "Country          0\n",
      "Sunrise_Time     0\n",
      "Sunset_Time      0\n",
      "Temperature      0\n",
      "humidity         0\n",
      "pressure         0\n",
      "Min_temp         0\n",
      "Max_temp         0\n",
      "Wind_Speeed      0\n",
      "Data_cal_Time    0\n",
      "dtype: int64\n",
      "updated weather data of australia\n",
      "object     5\n",
      "float64    4\n",
      "int64      4\n",
      "dtype: int64\n",
      "(11, 13)\n",
      "Cloudiness       0\n",
      "Weather_type     0\n",
      "Visibility       0\n",
      "Country          0\n",
      "Sunrise_Time     0\n",
      "Sunset_Time      0\n",
      "Temperature      0\n",
      "humidity         0\n",
      "pressure         0\n",
      "Min_temp         0\n",
      "Max_temp         0\n",
      "Wind_Speeed      0\n",
      "Data_cal_Time    0\n",
      "dtype: int64\n",
      "updated weather data of New Zealand\n",
      "object     5\n",
      "float64    4\n",
      "int64      4\n",
      "dtype: int64\n",
      "(21, 13)\n",
      "Cloudiness       0\n",
      "Weather_type     0\n",
      "Visibility       0\n",
      "Country          0\n",
      "Sunrise_Time     0\n",
      "Sunset_Time      0\n",
      "Temperature      0\n",
      "humidity         0\n",
      "pressure         0\n",
      "Min_temp         0\n",
      "Max_temp         0\n",
      "Wind_Speeed      0\n",
      "Data_cal_Time    0\n",
      "dtype: int64\n"
     ]
    }
   ],
   "source": [
    "# This is for updated data\n",
    "# Simplyfing the data as per the countries:\n",
    "\n",
    "weather_data_Updated_US= weather_data_Updated[weather_data_Updated[\"Country\"]==\"US\"] # using == operator getting all the rows which contains only US in country column\n",
    "weather_data_Updated_IN= weather_data_Updated[weather_data_Updated[\"Country\"]==\"IN\"]\n",
    "weather_data_Updated_AU= weather_data_Updated[weather_data_Updated[\"Country\"]==\"AU\"]\n",
    "weather_data_Updated_NZ= weather_data_Updated[weather_data_Updated[\"Country\"]==\"NZ\"]\n",
    "\n",
    "#look for missing data\n",
    "# list of the text I needed to show in the loop below\n",
    "list_of_data_up=[\"updated weather data of US\",\"updated weather data of India\",\"updated weather data of australia\",\"updated weather data of New Zealand\"]\n",
    "s1=0\n",
    "for i in (weather_data_Updated_US,weather_data_Updated_IN,weather_data_Updated_AU,weather_data_Updated_NZ):\n",
    "    print(list_of_data_up[s1])\n",
    "    print(i.dtypes.value_counts())\n",
    "    print(i.shape)\n",
    "    print(i.isnull().sum()) # no missing values in the reduced dataset \n",
    "    s1+=1\n",
    "    "
   ]
  },
  {
   "cell_type": "markdown",
   "metadata": {},
   "source": [
    "### As from the above output, There's no Null's in the data, there's also no strings either, this means there's therefore no values in it such as \"Not Available\"."
   ]
  },
  {
   "cell_type": "code",
   "execution_count": 638,
   "metadata": {
    "collapsed": true
   },
   "outputs": [
    {
     "name": "stdout",
     "output_type": "stream",
     "text": [
      "Summary of Neumerical Data:\n"
     ]
    },
    {
     "data": {
      "text/html": [
       "<div>\n",
       "<style scoped>\n",
       "    .dataframe tbody tr th:only-of-type {\n",
       "        vertical-align: middle;\n",
       "    }\n",
       "\n",
       "    .dataframe tbody tr th {\n",
       "        vertical-align: top;\n",
       "    }\n",
       "\n",
       "    .dataframe thead th {\n",
       "        text-align: right;\n",
       "    }\n",
       "</style>\n",
       "<table border=\"1\" class=\"dataframe\">\n",
       "  <thead>\n",
       "    <tr style=\"text-align: right;\">\n",
       "      <th></th>\n",
       "      <th>Cloudiness</th>\n",
       "      <th>Visibility</th>\n",
       "      <th>Temperature</th>\n",
       "      <th>humidity</th>\n",
       "      <th>pressure</th>\n",
       "      <th>Min_temp</th>\n",
       "      <th>Max_temp</th>\n",
       "      <th>Wind_Speeed</th>\n",
       "    </tr>\n",
       "  </thead>\n",
       "  <tbody>\n",
       "    <tr>\n",
       "      <th>count</th>\n",
       "      <td>206.000000</td>\n",
       "      <td>206.000000</td>\n",
       "      <td>206.000000</td>\n",
       "      <td>206.000000</td>\n",
       "      <td>206.000000</td>\n",
       "      <td>206.000000</td>\n",
       "      <td>206.000000</td>\n",
       "      <td>206.000000</td>\n",
       "    </tr>\n",
       "    <tr>\n",
       "      <th>mean</th>\n",
       "      <td>32.606796</td>\n",
       "      <td>11510.126214</td>\n",
       "      <td>289.936408</td>\n",
       "      <td>53.922330</td>\n",
       "      <td>1017.611650</td>\n",
       "      <td>289.004369</td>\n",
       "      <td>290.887864</td>\n",
       "      <td>4.144029</td>\n",
       "    </tr>\n",
       "    <tr>\n",
       "      <th>std</th>\n",
       "      <td>34.617009</td>\n",
       "      <td>4731.482101</td>\n",
       "      <td>6.414562</td>\n",
       "      <td>25.262983</td>\n",
       "      <td>6.047347</td>\n",
       "      <td>6.701886</td>\n",
       "      <td>6.231253</td>\n",
       "      <td>2.072288</td>\n",
       "    </tr>\n",
       "    <tr>\n",
       "      <th>min</th>\n",
       "      <td>0.000000</td>\n",
       "      <td>3500.000000</td>\n",
       "      <td>279.780000</td>\n",
       "      <td>14.000000</td>\n",
       "      <td>1009.000000</td>\n",
       "      <td>277.150000</td>\n",
       "      <td>281.150000</td>\n",
       "      <td>1.370000</td>\n",
       "    </tr>\n",
       "    <tr>\n",
       "      <th>25%</th>\n",
       "      <td>1.000000</td>\n",
       "      <td>8000.000000</td>\n",
       "      <td>284.385000</td>\n",
       "      <td>34.000000</td>\n",
       "      <td>1011.000000</td>\n",
       "      <td>283.150000</td>\n",
       "      <td>285.150000</td>\n",
       "      <td>2.420000</td>\n",
       "    </tr>\n",
       "    <tr>\n",
       "      <th>50%</th>\n",
       "      <td>20.000000</td>\n",
       "      <td>10000.000000</td>\n",
       "      <td>291.235000</td>\n",
       "      <td>52.500000</td>\n",
       "      <td>1017.500000</td>\n",
       "      <td>289.150000</td>\n",
       "      <td>292.150000</td>\n",
       "      <td>4.100000</td>\n",
       "    </tr>\n",
       "    <tr>\n",
       "      <th>75%</th>\n",
       "      <td>75.000000</td>\n",
       "      <td>16093.000000</td>\n",
       "      <td>297.060000</td>\n",
       "      <td>81.000000</td>\n",
       "      <td>1023.000000</td>\n",
       "      <td>296.150000</td>\n",
       "      <td>297.150000</td>\n",
       "      <td>5.700000</td>\n",
       "    </tr>\n",
       "    <tr>\n",
       "      <th>max</th>\n",
       "      <td>100.000000</td>\n",
       "      <td>32186.000000</td>\n",
       "      <td>299.150000</td>\n",
       "      <td>100.000000</td>\n",
       "      <td>1028.000000</td>\n",
       "      <td>299.150000</td>\n",
       "      <td>300.150000</td>\n",
       "      <td>9.800000</td>\n",
       "    </tr>\n",
       "  </tbody>\n",
       "</table>\n",
       "</div>"
      ],
      "text/plain": [
       "       Cloudiness    Visibility  Temperature    humidity     pressure  \\\n",
       "count  206.000000    206.000000   206.000000  206.000000   206.000000   \n",
       "mean    32.606796  11510.126214   289.936408   53.922330  1017.611650   \n",
       "std     34.617009   4731.482101     6.414562   25.262983     6.047347   \n",
       "min      0.000000   3500.000000   279.780000   14.000000  1009.000000   \n",
       "25%      1.000000   8000.000000   284.385000   34.000000  1011.000000   \n",
       "50%     20.000000  10000.000000   291.235000   52.500000  1017.500000   \n",
       "75%     75.000000  16093.000000   297.060000   81.000000  1023.000000   \n",
       "max    100.000000  32186.000000   299.150000  100.000000  1028.000000   \n",
       "\n",
       "         Min_temp    Max_temp  Wind_Speeed  \n",
       "count  206.000000  206.000000   206.000000  \n",
       "mean   289.004369  290.887864     4.144029  \n",
       "std      6.701886    6.231253     2.072288  \n",
       "min    277.150000  281.150000     1.370000  \n",
       "25%    283.150000  285.150000     2.420000  \n",
       "50%    289.150000  292.150000     4.100000  \n",
       "75%    296.150000  297.150000     5.700000  \n",
       "max    299.150000  300.150000     9.800000  "
      ]
     },
     "metadata": {},
     "output_type": "display_data"
    },
    {
     "name": "stdout",
     "output_type": "stream",
     "text": [
      "Summary of String Data:\n"
     ]
    },
    {
     "data": {
      "text/html": [
       "<div>\n",
       "<style scoped>\n",
       "    .dataframe tbody tr th:only-of-type {\n",
       "        vertical-align: middle;\n",
       "    }\n",
       "\n",
       "    .dataframe tbody tr th {\n",
       "        vertical-align: top;\n",
       "    }\n",
       "\n",
       "    .dataframe thead th {\n",
       "        text-align: right;\n",
       "    }\n",
       "</style>\n",
       "<table border=\"1\" class=\"dataframe\">\n",
       "  <thead>\n",
       "    <tr style=\"text-align: right;\">\n",
       "      <th></th>\n",
       "      <th>Weather_type</th>\n",
       "      <th>Country</th>\n",
       "      <th>Sunrise_Time</th>\n",
       "      <th>Sunset_Time</th>\n",
       "      <th>Data_cal_Time</th>\n",
       "      <th>cal_day</th>\n",
       "    </tr>\n",
       "  </thead>\n",
       "  <tbody>\n",
       "    <tr>\n",
       "      <th>count</th>\n",
       "      <td>206</td>\n",
       "      <td>206</td>\n",
       "      <td>206</td>\n",
       "      <td>206</td>\n",
       "      <td>206</td>\n",
       "      <td>206</td>\n",
       "    </tr>\n",
       "    <tr>\n",
       "      <th>unique</th>\n",
       "      <td>5</td>\n",
       "      <td>4</td>\n",
       "      <td>52</td>\n",
       "      <td>60</td>\n",
       "      <td>16</td>\n",
       "      <td>2</td>\n",
       "    </tr>\n",
       "    <tr>\n",
       "      <th>top</th>\n",
       "      <td>Clouds</td>\n",
       "      <td>US</td>\n",
       "      <td>22-03-2018 16:24</td>\n",
       "      <td>22-03-2018 18:30</td>\n",
       "      <td>23-03-2018 00:00</td>\n",
       "      <td>23-03-2018</td>\n",
       "    </tr>\n",
       "    <tr>\n",
       "      <th>freq</th>\n",
       "      <td>95</td>\n",
       "      <td>95</td>\n",
       "      <td>25</td>\n",
       "      <td>22</td>\n",
       "      <td>61</td>\n",
       "      <td>155</td>\n",
       "    </tr>\n",
       "  </tbody>\n",
       "</table>\n",
       "</div>"
      ],
      "text/plain": [
       "       Weather_type Country      Sunrise_Time       Sunset_Time  \\\n",
       "count           206     206               206               206   \n",
       "unique            5       4                52                60   \n",
       "top          Clouds      US  22-03-2018 16:24  22-03-2018 18:30   \n",
       "freq             95      95                25                22   \n",
       "\n",
       "           Data_cal_Time     cal_day  \n",
       "count                206         206  \n",
       "unique                16           2  \n",
       "top     23-03-2018 00:00  23-03-2018  \n",
       "freq                  61         155  "
      ]
     },
     "metadata": {},
     "output_type": "display_data"
    }
   ],
   "source": [
    "# cheking the summary of the data for undestanding the data\n",
    "print(\"Summary of Neumerical Data:\")\n",
    "if(weather_data.select_dtypes(include=[np.number]).shape[1] > 0):  # here checkig only nuemeric data\n",
    "    display(weather_data.select_dtypes(include=[np.number]).describe()) # print the summary of the nuemeric data\n",
    "print(\"Summary of String Data:\")\n",
    "if(weather_data.select_dtypes(include=[np.object]).shape[1] > 0): # this is for string data type\n",
    "    display(weather_data.select_dtypes(include=[np.object]).describe()) # It will print the summary of the string data type "
   ]
  },
  {
   "cell_type": "code",
   "execution_count": 13,
   "metadata": {},
   "outputs": [],
   "source": [
    "# Processing data: taking only date for analysis.\n",
    "# This is slicing of date from the whole timestamp of Sunrise time\n",
    "sr=dict(weather_data[\"Sunrise_Time\"])\n",
    "Sunr_time = []\n",
    "for i in sr:\n",
    "    sra=sr[i][0:10]\n",
    "    Sunr_time.append(sra)\n",
    "Sunrise_day= pd.Series(Sunr_time)\n",
    "\n",
    "# This is scicing of date from the whole timestamp of Sunset time\n",
    "st=dict(weather_data[\"Sunset_Time\"])\n",
    "Suns_time = []\n",
    "for i in st:\n",
    "    ssa=st[i][0:10]\n",
    "    Suns_time.append(ssa)\n",
    "Sunset_day= pd.Series(Suns_time)\n",
    "\n",
    "# This is scicing of date from the whole timestamp of data calculation time\n",
    "ct=dict(weather_data[\"Data_cal_Time\"])\n",
    "cal_time = []\n",
    "for i in ct:\n",
    "    ca=ct[i][0:10]\n",
    "    cal_time.append(ca)\n",
    "    \n",
    "Cal_day= pd.Series(cal_time)\n"
   ]
  },
  {
   "cell_type": "markdown",
   "metadata": {},
   "source": [
    "## Before analysing the data, lets check the data distribution:"
   ]
  },
  {
   "cell_type": "code",
   "execution_count": 92,
   "metadata": {},
   "outputs": [
    {
     "data": {
      "text/plain": [
       "<matplotlib.axes._subplots.AxesSubplot at 0x2583ab3bb00>"
      ]
     },
     "execution_count": 92,
     "metadata": {},
     "output_type": "execute_result"
    },
    {
     "data": {
      "image/png": "[encoded data removed]",
      "text/plain": [
       "<matplotlib.figure.Figure at 0x2583a92aa20>"
      ]
     },
     "metadata": {},
     "output_type": "display_data"
    }
   ],
   "source": [
    "# This is for showing the previous data distribution.\n",
    "fig, axs = plt.subplots(ncols=8, figsize=(16, 4)) # setting the size of the figuer and putting them into one cell.\n",
    "weather_data[\"humidity\"].plot.box(ax=axs[0]) # this will create a box blot on Humidity and so on below\n",
    "weather_data[\"Visibility\"].plot.box(ax=axs[1])\n",
    "weather_data[\"Cloudiness\"].plot.box(ax=axs[2])\n",
    "weather_data[\"Temperature\"].plot.box(ax=axs[3])\n",
    "weather_data[\"pressure\"].plot.box(ax=axs[4])\n",
    "weather_data[\"Min_temp\"].plot.box(ax=axs[5])\n",
    "weather_data[\"Max_temp\"].plot.box(ax=axs[6])\n",
    "weather_data[\"Wind_Speeed\"].plot.box(ax=axs[7])\n",
    "\n",
    "# As can be seen below data distribution, the data are properly distributed but Visibility data has outlier. \n",
    "# To deal with that, I have used the average values in my analysis to avoid outliers."
   ]
  },
  {
   "cell_type": "code",
   "execution_count": 93,
   "metadata": {},
   "outputs": [
    {
     "data": {
      "text/plain": [
       "<matplotlib.axes._subplots.AxesSubplot at 0x2583adb26a0>"
      ]
     },
     "execution_count": 93,
     "metadata": {},
     "output_type": "execute_result"
    },
    {
     "data": {
      "image/png": "[encoded data removed]",
      "text/plain": [
       "<matplotlib.figure.Figure at 0x2583adece48>"
      ]
     },
     "metadata": {},
     "output_type": "display_data"
    }
   ],
   "source": [
    "# This is for showing the updated data distribution.\n",
    "fig, axs = plt.subplots(ncols=8, figsize=(16, 4))\n",
    "weather_data_Updated[\"humidity\"].plot.box(ax=axs[0])\n",
    "weather_data_Updated[\"Visibility\"].plot.box(ax=axs[1])\n",
    "weather_data_Updated[\"Cloudiness\"].plot.box(ax=axs[2])\n",
    "weather_data_Updated[\"Temperature\"].plot.box(ax=axs[3])\n",
    "weather_data_Updated[\"pressure\"].plot.box(ax=axs[4])\n",
    "weather_data_Updated[\"Min_temp\"].plot.box(ax=axs[5])\n",
    "weather_data_Updated[\"Max_temp\"].plot.box(ax=axs[6])\n",
    "weather_data_Updated[\"Wind_Speeed\"].plot.box(ax=axs[7])\n",
    "\n",
    "# As can be seen below data distribution, the data are properly distributed but the Cloudiness data has outlier. \n",
    "# To deal with that, I have used the average values in my analysis to avoid outliers."
   ]
  },
  {
   "cell_type": "markdown",
   "metadata": {},
   "source": [
    "### The above analysis was conducted for understanding the data distribution. To know how data are distributed and to check the noise and outliers."
   ]
  },
  {
   "cell_type": "code",
   "execution_count": 650,
   "metadata": {},
   "outputs": [
    {
     "data": {
      "text/plain": [
       "Text(0.5,1,'Fit results: mu = 289.94,  std = 6.40')"
      ]
     },
     "execution_count": 650,
     "metadata": {},
     "output_type": "execute_result"
    },
    {
     "data": {
      "image/png": "[encoded data removed]",
      "text/plain": [
       "<matplotlib.figure.Figure at 0x2585221c438>"
      ]
     },
     "metadata": {},
     "output_type": "display_data"
    }
   ],
   "source": [
    "# This is a plot to understand the Temperature data of the data set\n",
    "# to understand the trend of the temperature over all the countries\n",
    "mu, std = norm.fit(weather_data[\"Temperature\"]) # getting the standard deviation and mu value by norm.fit method\n",
    "plt.hist(weather_data[\"Temperature\"], bins=25, normed=True, alpha=0.6, color='g') # plotting the histogram\n",
    "xmin, xmax = plt.xlim()\n",
    "x = np.linspace(xmin, xmax, 100)\n",
    "p = norm.pdf(x, mu, std)\n",
    "plt.plot(x, p, 'k', linewidth=2) # ploting the lines showing the distribution from min to max on standard deviation and mu values\n",
    "title = \"Fit results: mu = %.2f,  std = %.2f\" % (mu, std)\n",
    "plt.title(title)"
   ]
  },
  {
   "cell_type": "markdown",
   "metadata": {},
   "source": [
    "<h2> First Analysis: <h2>"
   ]
  },
  {
   "cell_type": "markdown",
   "metadata": {},
   "source": [
    "### Analysis in US and India data"
   ]
  },
  {
   "cell_type": "markdown",
   "metadata": {},
   "source": [
    "#### As US and India both belong to Northern Hemisphere of Equator. So, to avoid the interference of native geographical condition I have analysed the weather condition between contries belong to same equator regions.Also, the zip codes are taken where the tropic of cancer shows the similar effects on the weather to get the normalized parametrs. "
   ]
  },
  {
   "cell_type": "code",
   "execution_count": 391,
   "metadata": {},
   "outputs": [
    {
     "data": {
      "text/html": [
       "<div>\n",
       "<style scoped>\n",
       "    .dataframe tbody tr th:only-of-type {\n",
       "        vertical-align: middle;\n",
       "    }\n",
       "\n",
       "    .dataframe tbody tr th {\n",
       "        vertical-align: top;\n",
       "    }\n",
       "\n",
       "    .dataframe thead th {\n",
       "        text-align: right;\n",
       "    }\n",
       "</style>\n",
       "<table border=\"1\" class=\"dataframe\">\n",
       "  <thead>\n",
       "    <tr style=\"text-align: right;\">\n",
       "      <th></th>\n",
       "      <th>Cloudiness</th>\n",
       "      <th>Visibility</th>\n",
       "      <th>Temperature</th>\n",
       "      <th>humidity</th>\n",
       "      <th>pressure</th>\n",
       "      <th>Min_temp</th>\n",
       "      <th>Max_temp</th>\n",
       "      <th>Wind_Speeed</th>\n",
       "    </tr>\n",
       "  </thead>\n",
       "  <tbody>\n",
       "    <tr>\n",
       "      <th>Mean_US</th>\n",
       "      <td>23.894737</td>\n",
       "      <td>15821.957895</td>\n",
       "      <td>286.602316</td>\n",
       "      <td>35.936842</td>\n",
       "      <td>1017.905263</td>\n",
       "      <td>285.360526</td>\n",
       "      <td>287.950000</td>\n",
       "      <td>5.602842</td>\n",
       "    </tr>\n",
       "    <tr>\n",
       "      <th>Mean_IN</th>\n",
       "      <td>10.566038</td>\n",
       "      <td>5962.264151</td>\n",
       "      <td>297.783396</td>\n",
       "      <td>54.716981</td>\n",
       "      <td>1011.962264</td>\n",
       "      <td>297.338679</td>\n",
       "      <td>298.263208</td>\n",
       "      <td>1.893962</td>\n",
       "    </tr>\n",
       "  </tbody>\n",
       "</table>\n",
       "</div>"
      ],
      "text/plain": [
       "         Cloudiness    Visibility  Temperature   humidity     pressure  \\\n",
       "Mean_US   23.894737  15821.957895   286.602316  35.936842  1017.905263   \n",
       "Mean_IN   10.566038   5962.264151   297.783396  54.716981  1011.962264   \n",
       "\n",
       "           Min_temp    Max_temp  Wind_Speeed  \n",
       "Mean_US  285.360526  287.950000     5.602842  \n",
       "Mean_IN  297.338679  298.263208     1.893962  "
      ]
     },
     "execution_count": 391,
     "metadata": {},
     "output_type": "execute_result"
    }
   ],
   "source": [
    "# To just understand average of the data for future analysis.\n",
    "# The average of all the coluns tells how data are changed in both of the countries. \n",
    "wu=weather_data_US.describe() # to get the summary\n",
    "wi=weather_data_IN.describe()\n",
    "summary_both= pd.concat([wu[1:2],wi[1:2]], axis=0 ) # sliced only mean part of the describe function output.\n",
    "summary_both.index= [\"Mean_US\", \"Mean_IN\"] # making index\n",
    "summary_both"
   ]
  },
  {
   "cell_type": "code",
   "execution_count": 646,
   "metadata": {},
   "outputs": [
    {
     "data": {
      "image/png": "[encoded data removed]",
      "text/plain": [
       "<matplotlib.figure.Figure at 0x25851fceac8>"
      ]
     },
     "metadata": {},
     "output_type": "display_data"
    }
   ],
   "source": [
    "# Plotting the weather type on the time when data is recorded\n",
    "plt.figure()\n",
    "plt.subplot(221)    # use subplot to show the graphs in a same cell of notebook\n",
    "plt.bar(weather_data_US[\"Weather_type\"],weather_data_US[\"Data_cal_Time\"],align='center', alpha=.88, color=['blue'])\n",
    "plt.title('Weather in US recorded')  # giving title of the graph\n",
    "\n",
    "plt.subplot(222)\n",
    "plt.bar(weather_data_IN[\"Weather_type\"],weather_data_IN[\"Data_cal_Time\"],align='center', alpha=.88, color=['green'])\n",
    "plt.title('Weather in India recorded')\n",
    "plt.show()"
   ]
  },
  {
   "cell_type": "markdown",
   "metadata": {},
   "source": [
    "### As can be seen from the above 2 graphs, for the same time when data is recorded US has seen the Rainfall but India hadn't. So, I have analysed why it happened below:"
   ]
  },
  {
   "cell_type": "code",
   "execution_count": 155,
   "metadata": {},
   "outputs": [
    {
     "data": {
      "image/png": "[encoded data removed]",
      "text/plain": [
       "<matplotlib.figure.Figure at 0x2583e770860>"
      ]
     },
     "metadata": {},
     "output_type": "display_data"
    }
   ],
   "source": [
    "# As can be seen in the below graphs, the cloudiness percentage is high in US, maximum is 90 (weather_data_US[\"Cloudiness\"].max())\n",
    "# Whereas the maximum cloudiness percentage in india is only 20 (weather_data_IN[\"Cloudiness\"].max())\n",
    "# also, the average cloudiness in US is 23.89 and 10.56 in India\n",
    "# So, Cloudiness is one of the parameters for rain fall and if its more, the chances of precipitation is quite high and vice versa.\n",
    "# Hence, US seen more rain than India\n",
    "plt.figure()\n",
    "plt.subplot(221)\n",
    "plt.bar(weather_data_US[\"Weather_type\"],weather_data_US[\"Cloudiness\"],align='center', alpha=.88, color=['blue'])\n",
    "plt.title('Cloudiness in US')\n",
    "#plt.show() \n",
    "plt.subplot(222)\n",
    "plt.bar(weather_data_IN[\"Weather_type\"],weather_data_IN[\"Cloudiness\"],align='center', alpha=.88, color=['green'])\n",
    "plt.title('Cloudiness in IN')\n",
    "plt.show()"
   ]
  },
  {
   "cell_type": "code",
   "execution_count": 164,
   "metadata": {},
   "outputs": [
    {
     "data": {
      "image/png": "[encoded data removed]",
      "text/plain": [
       "<matplotlib.figure.Figure at 0x2583cf66668>"
      ]
     },
     "metadata": {},
     "output_type": "display_data"
    }
   ],
   "source": [
    "# Another parameter for raining is humidity.\n",
    "# As the Humidity in US is quite low as compare to the India which cause more rain in US than India.\n",
    "#The average humidity is US is 35.9368 (weather_data_US[\"humidity\"].mean())\n",
    "# Where the average humidity in India is 54.71 (weather_data_IN[\"humidity\"].mean())\n",
    "# As lower humidity cause more rain which can be seen in the below graphs where US seen rain but not India\n",
    "plt.figure()\n",
    "plt.subplot(221)\n",
    "plt.bar(weather_data_US[\"Weather_type\"],weather_data_US[\"humidity\"],align='center', alpha=.88, color=['blue'])\n",
    "plt.title('humidity in US')\n",
    "#plt.show() \n",
    "plt.subplot(222)\n",
    "plt.bar(weather_data_IN[\"Weather_type\"],weather_data_IN[\"humidity\"],align='center', alpha=.88, color=['green'])\n",
    "plt.title('humidity in IN')\n",
    "plt.show()"
   ]
  },
  {
   "cell_type": "code",
   "execution_count": 168,
   "metadata": {},
   "outputs": [
    {
     "data": {
      "image/png": "[encoded data removed]",
      "text/plain": [
       "<matplotlib.figure.Figure at 0x2583ee76d30>"
      ]
     },
     "metadata": {},
     "output_type": "display_data"
    }
   ],
   "source": [
    "# Another parameter for raining is Wind Speed.\n",
    "# As the Wind Speed in US is quite High as compare to the India which cause more rain in US than India.\n",
    "#The average Wind Speed is US is 5.60 (weather_data_US[\"Wind_Speeed\"].mean()) and Maximum is 9.8\n",
    "# Where the average Wind Speed in India is 1.89 (weather_data_IN[\"Wind_Speeed\"].mean()) and Maximum is 4.1\n",
    "# The Wind Speed here is the speed of wind at ground level not at the cloud level.\n",
    "# As Higher the Wind Speed cause more rain which can be seen in the below graphs where US seen rain but not India.\n",
    "\n",
    "plt.figure()\n",
    "plt.subplot(221)\n",
    "plt.bar(weather_data_US[\"Weather_type\"],weather_data_US[\"Wind_Speeed\"],align='center', alpha=.88, color=['blue'])\n",
    "plt.title('Wind_Speeed in US')\n",
    "#plt.show() \n",
    "plt.subplot(222)\n",
    "plt.bar(weather_data_IN[\"Weather_type\"],weather_data_IN[\"Wind_Speeed\"],align='center', alpha=.88, color=['green'])\n",
    "plt.title('Wind_Speeed in IN')\n",
    "plt.show()"
   ]
  },
  {
   "cell_type": "markdown",
   "metadata": {},
   "source": [
    "## So as per the above analysis, the probability of rainfall is dependent on the Couldiness, Humidity and wind speed. Result- when Couldiness and Wind speed is high and humidity is relatively low then there will be possibility of rain fall"
   ]
  },
  {
   "cell_type": "markdown",
   "metadata": {},
   "source": [
    "<h3>To understand more patterns I have analysed the same parameters recorderd day after when the above recorded<h3>"
   ]
  },
  {
   "cell_type": "code",
   "execution_count": 663,
   "metadata": {},
   "outputs": [
    {
     "data": {
      "text/html": [
       "<div>\n",
       "<style scoped>\n",
       "    .dataframe tbody tr th:only-of-type {\n",
       "        vertical-align: middle;\n",
       "    }\n",
       "\n",
       "    .dataframe tbody tr th {\n",
       "        vertical-align: top;\n",
       "    }\n",
       "\n",
       "    .dataframe thead th {\n",
       "        text-align: right;\n",
       "    }\n",
       "</style>\n",
       "<table border=\"1\" class=\"dataframe\">\n",
       "  <thead>\n",
       "    <tr style=\"text-align: right;\">\n",
       "      <th></th>\n",
       "      <th>Cloudiness</th>\n",
       "      <th>Visibility</th>\n",
       "      <th>Temperature</th>\n",
       "      <th>humidity</th>\n",
       "      <th>pressure</th>\n",
       "      <th>Min_temp</th>\n",
       "      <th>Max_temp</th>\n",
       "      <th>Wind_Speeed</th>\n",
       "    </tr>\n",
       "  </thead>\n",
       "  <tbody>\n",
       "    <tr>\n",
       "      <th>Mean_US</th>\n",
       "      <td>21.768421</td>\n",
       "      <td>16076.063158</td>\n",
       "      <td>281.988105</td>\n",
       "      <td>64.905263</td>\n",
       "      <td>1021.610526</td>\n",
       "      <td>279.686842</td>\n",
       "      <td>284.265789</td>\n",
       "      <td>2.848211</td>\n",
       "    </tr>\n",
       "    <tr>\n",
       "      <th>Mean_IN</th>\n",
       "      <td>13.584906</td>\n",
       "      <td>6532.075472</td>\n",
       "      <td>303.706038</td>\n",
       "      <td>42.188679</td>\n",
       "      <td>1014.698113</td>\n",
       "      <td>303.168868</td>\n",
       "      <td>304.451887</td>\n",
       "      <td>3.296226</td>\n",
       "    </tr>\n",
       "  </tbody>\n",
       "</table>\n",
       "</div>"
      ],
      "text/plain": [
       "         Cloudiness    Visibility  Temperature   humidity     pressure  \\\n",
       "Mean_US   21.768421  16076.063158   281.988105  64.905263  1021.610526   \n",
       "Mean_IN   13.584906   6532.075472   303.706038  42.188679  1014.698113   \n",
       "\n",
       "           Min_temp    Max_temp  Wind_Speeed  \n",
       "Mean_US  279.686842  284.265789     2.848211  \n",
       "Mean_IN  303.168868  304.451887     3.296226  "
      ]
     },
     "execution_count": 663,
     "metadata": {},
     "output_type": "execute_result"
    }
   ],
   "source": [
    "# This is the updated data which recorded after one day to the above recorded day\n",
    "# To understand average of the data for future analysis.\n",
    "# The average of all the coluns tells how data are changed in both of the countries. \n",
    "wu=weather_data_Updated_US.describe()  # get the summary\n",
    "wi=weather_data_Updated_IN.describe()\n",
    "summary_both_Up= pd.concat([wu[1:2],wi[1:2]], axis=0 )  #sliced only mean part of the describe function output.\n",
    "summary_both_Up.index= [\"Mean_US\", \"Mean_IN\"]\n",
    "summary_both_Up\n"
   ]
  },
  {
   "cell_type": "markdown",
   "metadata": {},
   "source": [
    "### I have taken the same parameters as above in analysing the weather of US and India. As this time both of the countries havn't seen the rain fall due to parameters changes. Below I have analysed why it happened"
   ]
  },
  {
   "cell_type": "markdown",
   "metadata": {},
   "source": [
    "#### I have plotted all the 3 primarily parameters including Cloudiness, humidity and Wind speed against the weather_type for both countries. "
   ]
  },
  {
   "cell_type": "code",
   "execution_count": 555,
   "metadata": {},
   "outputs": [
    {
     "name": "stdout",
     "output_type": "stream",
     "text": [
      "**** This analysis is done on updated data ****\n"
     ]
    },
    {
     "data": {
      "image/png": "[encoded data removed]",
      "text/plain": [
       "<matplotlib.figure.Figure at 0x25850f5bc88>"
      ]
     },
     "metadata": {},
     "output_type": "display_data"
    },
    {
     "data": {
      "image/png": "[encoded data removed]",
      "text/plain": [
       "<matplotlib.figure.Figure at 0x25851312fd0>"
      ]
     },
     "metadata": {},
     "output_type": "display_data"
    },
    {
     "data": {
      "image/png": "[encoded data removed]",
      "text/plain": [
       "<matplotlib.figure.Figure at 0x258514c1f28>"
      ]
     },
     "metadata": {},
     "output_type": "display_data"
    },
    {
     "data": {
      "image/png": "[encoded data removed]",
      "text/plain": [
       "<matplotlib.figure.Figure at 0x258512efba8>"
      ]
     },
     "metadata": {},
     "output_type": "display_data"
    }
   ],
   "source": [
    "# As explain above the role of Cloudiness in rain fall, I have plotted Cloudiness and weather type.\n",
    "# Appreantly both of the Countries have not seen the rain as Cloudiness percentage got drop.\n",
    "# As the average for US was 23.89 before. I am taking for US only as India has not seen rain then and now so\n",
    "# Now it is 21.76 (weather_data_Updated_US[\"Cloudiness\"].mean())\n",
    "# This comparision can be seen in the below first row graph\n",
    "print(\"**** This analysis is done on updated data ****\")\n",
    "plt.figure()\n",
    "plt.subplot(221)    # use subplot to show the graphs in a same cell of notebook\n",
    "plt.bar(weather_data_Updated_US[\"Weather_type\"],weather_data_Updated_US[\"Cloudiness\"],align='center', alpha=.88, color=['blue'])\n",
    "plt.title('Weather & Cloudiness US')\n",
    "plt.subplot(222)\n",
    "plt.bar(weather_data_Updated_IN[\"Weather_type\"],weather_data_Updated_IN[\"Cloudiness\"],align='center', alpha=.88, color=['green'])\n",
    "plt.title('Weather & Cloudiness India')\n",
    "\n",
    "# As explain above the role of humidity in rain fall, I have plotted humidity and weather type.\n",
    "# Appreantly both of the Countries have not seen the rain as humidity percentage got Up.\n",
    "# As the average for US was 35.93 before.\n",
    "# Now it is 64.90 (weather_data_Updated_US[\"humidity\"].mean())\n",
    "# This comparision can be seen in the below second row graph\n",
    "\n",
    "plt.figure()\n",
    "plt.subplot(223)    # use subplot to show the graphs in a same cell of notebook\n",
    "plt.bar(weather_data_Updated_US[\"Weather_type\"],weather_data_Updated_US[\"humidity\"],align='center', alpha=.88, color=['blue'])\n",
    "plt.title('Weather & Humidity US')\n",
    "plt.subplot(224)\n",
    "plt.bar(weather_data_Updated_IN[\"Weather_type\"],weather_data_Updated_IN[\"humidity\"],align='center', alpha=.88, color=['green'])\n",
    "plt.title('Weather & Humidity India')\n",
    "\n",
    "# As explain above the role of Wind_Speeed in rain fall, I have plotted Wind_Speeed and weather type.\n",
    "# Appreantly both of the Countries have not seen the rain as Wind_Speeed percentage got Drop.\n",
    "# As the average for US was 5.60 before.\n",
    "# Now it is 2.84 (weather_data_Updated_US[\"Wind_Speeed\"].mean())\n",
    "# This comparision can be seen in the below second row graph\n",
    "\n",
    "plt.figure()\n",
    "plt.subplot(211)\n",
    "plt.bar(weather_data_Updated_US[\"Weather_type\"],weather_data_Updated_US[\"Wind_Speeed\"],align='center', alpha=.88, color=['blue'])\n",
    "plt.title('Weather & Wind_Speeed on Updated data for US')\n",
    "plt.show() \n",
    "plt.subplot(212)\n",
    "plt.bar(weather_data_Updated_IN[\"Weather_type\"],weather_data_Updated_IN[\"Wind_Speeed\"],align='center', alpha=.88, color=['green'])\n",
    "plt.title('Weather Type and Wind_Speeed on Updated data for India')\n",
    "plt.show()"
   ]
  },
  {
   "cell_type": "markdown",
   "metadata": {},
   "source": [
    "<h2>Summarizing the above Analysis<h2>"
   ]
  },
  {
   "cell_type": "code",
   "execution_count": 470,
   "metadata": {},
   "outputs": [
    {
     "data": {
      "text/html": [
       "<div>\n",
       "<style scoped>\n",
       "    .dataframe tbody tr th:only-of-type {\n",
       "        vertical-align: middle;\n",
       "    }\n",
       "\n",
       "    .dataframe tbody tr th {\n",
       "        vertical-align: top;\n",
       "    }\n",
       "\n",
       "    .dataframe thead th {\n",
       "        text-align: right;\n",
       "    }\n",
       "</style>\n",
       "<table border=\"1\" class=\"dataframe\">\n",
       "  <thead>\n",
       "    <tr style=\"text-align: right;\">\n",
       "      <th></th>\n",
       "      <th>Cloudiness</th>\n",
       "      <th>Visibility</th>\n",
       "      <th>Temperature</th>\n",
       "      <th>humidity</th>\n",
       "      <th>pressure</th>\n",
       "      <th>Min_temp</th>\n",
       "      <th>Max_temp</th>\n",
       "      <th>Wind_Speeed</th>\n",
       "    </tr>\n",
       "  </thead>\n",
       "  <tbody>\n",
       "    <tr>\n",
       "      <th>Mean_US_Before</th>\n",
       "      <td>23.894737</td>\n",
       "      <td>15821.957895</td>\n",
       "      <td>286.602316</td>\n",
       "      <td>35.936842</td>\n",
       "      <td>1017.905263</td>\n",
       "      <td>285.360526</td>\n",
       "      <td>287.950000</td>\n",
       "      <td>5.602842</td>\n",
       "    </tr>\n",
       "    <tr>\n",
       "      <th>Mean_IN_Before</th>\n",
       "      <td>10.566038</td>\n",
       "      <td>5962.264151</td>\n",
       "      <td>297.783396</td>\n",
       "      <td>54.716981</td>\n",
       "      <td>1011.962264</td>\n",
       "      <td>297.338679</td>\n",
       "      <td>298.263208</td>\n",
       "      <td>1.893962</td>\n",
       "    </tr>\n",
       "    <tr>\n",
       "      <th>Mean_US_After</th>\n",
       "      <td>21.768421</td>\n",
       "      <td>16076.063158</td>\n",
       "      <td>281.988105</td>\n",
       "      <td>64.905263</td>\n",
       "      <td>1021.610526</td>\n",
       "      <td>279.686842</td>\n",
       "      <td>284.265789</td>\n",
       "      <td>2.848211</td>\n",
       "    </tr>\n",
       "    <tr>\n",
       "      <th>Mean_IN_After</th>\n",
       "      <td>13.584906</td>\n",
       "      <td>6532.075472</td>\n",
       "      <td>303.706038</td>\n",
       "      <td>42.188679</td>\n",
       "      <td>1014.698113</td>\n",
       "      <td>303.168868</td>\n",
       "      <td>304.451887</td>\n",
       "      <td>3.296226</td>\n",
       "    </tr>\n",
       "  </tbody>\n",
       "</table>\n",
       "</div>"
      ],
      "text/plain": [
       "                Cloudiness    Visibility  Temperature   humidity     pressure  \\\n",
       "Mean_US_Before   23.894737  15821.957895   286.602316  35.936842  1017.905263   \n",
       "Mean_IN_Before   10.566038   5962.264151   297.783396  54.716981  1011.962264   \n",
       "Mean_US_After    21.768421  16076.063158   281.988105  64.905263  1021.610526   \n",
       "Mean_IN_After    13.584906   6532.075472   303.706038  42.188679  1014.698113   \n",
       "\n",
       "                  Min_temp    Max_temp  Wind_Speeed  \n",
       "Mean_US_Before  285.360526  287.950000     5.602842  \n",
       "Mean_IN_Before  297.338679  298.263208     1.893962  \n",
       "Mean_US_After   279.686842  284.265789     2.848211  \n",
       "Mean_IN_After   303.168868  304.451887     3.296226  "
      ]
     },
     "execution_count": 470,
     "metadata": {},
     "output_type": "execute_result"
    }
   ],
   "source": [
    "# clubing all the summary data for making the conclusion of this analysis\n",
    "summary_both_Mix= pd.concat([summary_both,summary_both_Up], axis=0 ) # concating the data row bise\n",
    "summary_both_Mix.index= [\"Mean_US_Before\", \"Mean_IN_Before\", \"Mean_US_After\", \"Mean_IN_After\"] # putting the index explicitely\n",
    "summary_both_Mix"
   ]
  },
  {
   "cell_type": "markdown",
   "metadata": {},
   "source": [
    "### As can be seen from the above table, all the necessary parameters for weather have been changed. Hence rainfall has not seen in both of the countries. The Cloudiness and Wind speed has dropped whereas the humidity get raised. So due to these changes in the parameters rainfall has not seen in both the coutries. Note- as pressure for both the countries are somewhat same in both the time so I havn't taken this in analysis."
   ]
  },
  {
   "cell_type": "markdown",
   "metadata": {},
   "source": [
    "<h2>Second Analysis:<h2>"
   ]
  },
  {
   "cell_type": "markdown",
   "metadata": {},
   "source": [
    "## Now I have compare the visibility in US and India below:"
   ]
  },
  {
   "cell_type": "markdown",
   "metadata": {},
   "source": [
    "#### The visibility is related to the Cloudiness so I have taken the cloudiness and visibility of both the countries."
   ]
  },
  {
   "cell_type": "markdown",
   "metadata": {},
   "source": [
    "##### This analysis is done on previous data"
   ]
  },
  {
   "cell_type": "code",
   "execution_count": 207,
   "metadata": {},
   "outputs": [
    {
     "data": {
      "image/png": "[encoded data removed]",
      "text/plain": [
       "<matplotlib.figure.Figure at 0x2583d3a10f0>"
      ]
     },
     "metadata": {},
     "output_type": "display_data"
    }
   ],
   "source": [
    "# visibility is a measure of the distance at which an object or light can be clearly discerned. \n",
    "#It is reported within surface weather observations depending upon the country.\n",
    "# The visibility depends on the weather condition so I am analysing the visibility percentage against the weather type\n",
    "# In both of the coutries, Visibility is high in Cloud weather. However, US has seen the way high visibility than India\n",
    "# As the average visibility in US is 15821 (weather_data_US[\"Visibility\"].mean())\n",
    "# Whereas the average visibility in India is just 5962 (weather_data_IN[\"Visibility\"].mean())\n",
    "plt.figure()\n",
    "plt.subplot(221)\n",
    "plt.bar(weather_data_US[\"Weather_type\"],weather_data_US[\"Visibility\"],align='center', alpha=.88, color=['blue'])\n",
    "plt.title('Visibility percentage in US')\n",
    "#plt.show() \n",
    "plt.subplot(222)\n",
    "plt.bar(weather_data_IN[\"Weather_type\"],weather_data_IN[\"Visibility\"],align='center', alpha=.88, color=['green'])\n",
    "plt.title('Visibility percentage in IN')\n",
    "plt.show()"
   ]
  },
  {
   "cell_type": "markdown",
   "metadata": {},
   "source": [
    "### The reason behind high visibility in US than India is US has more cloudiness than India. As More cloudiness cause more visibility on a surface level and less cloudiness cause less visibility. I have analysed this concept below:\n"
   ]
  },
  {
   "cell_type": "code",
   "execution_count": 285,
   "metadata": {},
   "outputs": [
    {
     "data": {
      "image/png": "[encoded data removed]",
      "text/plain": [
       "<matplotlib.figure.Figure at 0x258475bfac8>"
      ]
     },
     "metadata": {},
     "output_type": "display_data"
    },
    {
     "data": {
      "image/png": "[encoded data removed]",
      "text/plain": [
       "<matplotlib.figure.Figure at 0x258476f7898>"
      ]
     },
     "metadata": {},
     "output_type": "display_data"
    }
   ],
   "source": [
    "# I have plotted the graph between Cloudiness and visibility using the weather type to understand how the cloudiness play\n",
    "# vital role visibility metar.\n",
    "# As can be seen from the below 2 graphs of US and India, when Cloudiness percentage is high, visibility is also shown high.\n",
    "# For us the average Cloudines is 23.89 (weather_data_US[\"Cloudiness\"].mean())\n",
    "# For India the average Cloudiness is 10.56 (weather_data_IN[\"Cloudiness\"].mean())\n",
    "# Hence, the visibility seen high in US than India.\n",
    "\n",
    "sns.lmplot( x=\"Cloudiness\", y=\"Visibility\", data=weather_data_US,fit_reg=False, hue='Weather_type',legend=True)\n",
    "plt.show()\n",
    "sns.lmplot( x=\"Cloudiness\", y=\"Visibility\", data=weather_data_IN,fit_reg=False, hue='Weather_type',legend=True)\n",
    "plt.show()"
   ]
  },
  {
   "cell_type": "markdown",
   "metadata": {},
   "source": [
    "### Now I have taken the same analysis on updated data"
   ]
  },
  {
   "cell_type": "code",
   "execution_count": 472,
   "metadata": {},
   "outputs": [
    {
     "data": {
      "image/png": "[encoded data removed]",
      "text/plain": [
       "<matplotlib.figure.Figure at 0x2584ce7d860>"
      ]
     },
     "metadata": {},
     "output_type": "display_data"
    }
   ],
   "source": [
    "# I have analysed on the same parameters here as above.\n",
    "# In both of the coutries, Visibility is high in Cloud weather. However, US has seen the way high visibility than India\n",
    "# As the average visibility in US is 16076 (weather_data_Updated_US[\"Visibility\"].mean())\n",
    "# Whereas the average visibility in India is just 6532 (weather_data_Updated_IN[\"Visibility\"].mean())\n",
    "plt.figure()\n",
    "plt.subplot(221)\n",
    "plt.bar(weather_data_Updated_US[\"Weather_type\"],weather_data_Updated_US[\"Visibility\"],align='center', alpha=.88, color=['blue'])\n",
    "plt.title('Visibility percentage in US')\n",
    "#plt.show() \n",
    "plt.subplot(222)\n",
    "plt.bar(weather_data_Updated_IN[\"Weather_type\"],weather_data_Updated_IN[\"Visibility\"],align='center', alpha=.88, color=['green'])\n",
    "plt.title('Visibility percentage in IN')\n",
    "plt.show()"
   ]
  },
  {
   "cell_type": "markdown",
   "metadata": {},
   "source": [
    "### To undestand this again, I have analysed the Visibility with the cloudiness as More cloudiness cause more visibility on a surface level and less cloudiness cause less visibility. I have analysed this concept below:"
   ]
  },
  {
   "cell_type": "code",
   "execution_count": 478,
   "metadata": {},
   "outputs": [
    {
     "data": {
      "image/png": "[encoded data removed]",
      "text/plain": [
       "<matplotlib.figure.Figure at 0x2584f0df400>"
      ]
     },
     "metadata": {},
     "output_type": "display_data"
    },
    {
     "data": {
      "image/png": "[encoded data removed]",
      "text/plain": [
       "<matplotlib.figure.Figure at 0x2584cfdcd68>"
      ]
     },
     "metadata": {},
     "output_type": "display_data"
    }
   ],
   "source": [
    "# I have plotted the graph between Cloudiness and visibility using the updated weather type to understand how the cloudiness \n",
    "#play vital role visibility metar.\n",
    "# As can be seen from the below 2 graphs of US and India, when Cloudiness percentage is high, visibility is also shown high.\n",
    "# For us the average Cloudines is 21.76 (weather_data_Updated_US[\"Cloudiness\"].mean())\n",
    "# For India the average Cloudiness is 13.58 (weather_data_Updated_IN[\"Cloudiness\"].mean())\n",
    "# Hence, the visibility seen high in US than India.\n",
    "\n",
    "sns.lmplot( x=\"Cloudiness\", y=\"Visibility\", data=weather_data_Updated_US,fit_reg=False, hue='Weather_type',legend=True)\n",
    "plt.show()\n",
    "sns.lmplot( x=\"Cloudiness\", y=\"Visibility\", data=weather_data_Updated_IN,fit_reg=False, hue='Weather_type',legend=True)\n",
    "plt.show()"
   ]
  },
  {
   "cell_type": "markdown",
   "metadata": {},
   "source": [
    "### As per the above analysis, Visibility is more in US than India because both of the time, US has greater cloudiness percentage than India."
   ]
  },
  {
   "cell_type": "markdown",
   "metadata": {},
   "source": [
    "<h2>Third Analysis:<h2>"
   ]
  },
  {
   "cell_type": "markdown",
   "metadata": {},
   "source": [
    "## I have compare all the parameters for Northern Hemisphere and Southern Hemisphere of Equator. The Countries of Northern Hemisphere are US and India. The Countries of Southern Hemisphere are Australia and New Zealand."
   ]
  },
  {
   "cell_type": "markdown",
   "metadata": {},
   "source": [
    "### As Equator plays a vital role in weather measuramens So I have compare the countries of both the hemisphare of Equator on all the necessary parameters."
   ]
  },
  {
   "cell_type": "code",
   "execution_count": 563,
   "metadata": {},
   "outputs": [
    {
     "data": {
      "image/png": "[encoded data removed]",
      "text/plain": [
       "<matplotlib.figure.Figure at 0x25850998d30>"
      ]
     },
     "metadata": {},
     "output_type": "display_data"
    },
    {
     "data": {
      "image/png": "[encoded data removed]",
      "text/plain": [
       "<matplotlib.figure.Figure at 0x2584dafd1d0>"
      ]
     },
     "metadata": {},
     "output_type": "display_data"
    },
    {
     "data": {
      "image/png": "[encoded data removed]",
      "text/plain": [
       "<matplotlib.figure.Figure at 0x2584d4a0550>"
      ]
     },
     "metadata": {},
     "output_type": "display_data"
    }
   ],
   "source": [
    "# First graph is shown for Cloudiness percentage shown in the coutries of both hemisphare\n",
    "plt.figure()\n",
    "plt.subplot(221)    # use subplot to show the graphs in a same cell of notebook\n",
    "plt.bar(weather_data[\"Country\"],weather_data[\"Cloudiness\"],align='center', alpha=.88, color=['blue']) # plotting the bar charts\n",
    "plt.title('Cloudiness ') # putting title\n",
    "# This is a second graph for humidity percentage shown in countries of both hemisphare\n",
    "plt.subplot(222)    # use subplot to show the graphs in a same cell of notebook\n",
    "plt.bar(weather_data[\"Country\"],weather_data[\"humidity\"],align='center', alpha=.88, color=['gray'])\n",
    "plt.title('Humidity')\n",
    "# This is a Third graph for Wind_Speeed encountered in the countries of both hemisphare\n",
    "\n",
    "plt.figure()\n",
    "plt.subplot(223) # putting the place of the graph in cell\n",
    "plt.bar(weather_data[\"Country\"],weather_data[\"Wind_Speeed\"],align='center', alpha=.88, color=['crimson'])\n",
    "plt.title('Wind_Speeed')\n",
    "# This is a 4th graph for pressure encountered in the countries of both hemisphare\n",
    "plt.subplot(224)\n",
    "plt.bar(weather_data[\"Country\"],weather_data[\"pressure\"],align='center', alpha=.88, color=['black'])\n",
    "plt.title('pressure')\n",
    "\n",
    "# This is a 5th graph for Temperature encountered in the countries of both hemisphare\n",
    "plt.figure() # to create the figure in the cell\n",
    "plt.subplot(211)\n",
    "plt.bar(weather_data[\"Country\"],weather_data[\"Temperature\"],align='center', alpha=.88, color=['red'])\n",
    "plt.title('Temperature')\n",
    "# This is a 6th graph for Visibility encountered in the countries of both hemisphare\n",
    "plt.subplot(212)\n",
    "plt.bar(weather_data[\"Country\"],weather_data[\"Visibility\"],align='center', alpha=.88, color=['green'])\n",
    "plt.title('Visibility')\n",
    "plt.show()  # to render the graph"
   ]
  },
  {
   "cell_type": "code",
   "execution_count": 562,
   "metadata": {},
   "outputs": [
    {
     "data": {
      "image/png": "[encoded data removed]",
      "text/plain": [
       "<matplotlib.figure.Figure at 0x2584d4ffeb8>"
      ]
     },
     "metadata": {},
     "output_type": "display_data"
    }
   ],
   "source": [
    "# To check the Temperature in both of the hemisphare in all the weathers:\n",
    "# Plotting the scatter plot between weather type and temperature on the basis of country which shown in colors\n",
    "sns.lmplot( x=\"Weather_type\", y=\"Temperature\", data=weather_data,fit_reg=False, hue='Country',legend=True)\n",
    "plt.show()"
   ]
  },
  {
   "cell_type": "markdown",
   "metadata": {},
   "source": [
    "### Summary of this Analysis:- The countries of the same hemisphare shown the similarity as native weather parameters are same for them. However, on some parameters the diffrence of  northen hemisphare coutries are more than the diffrence of Southern hemisphare countries. As the US and India shown diffrent conditions for Cloudiness, wind speed and Visibility which are inter related prameters. But Southern Countries like Australia and new zealand has miner diffrences in their weather parameters except Cloudiness percentage which new zealand has marginally more than Australia and others parameters are approximately not very much differ. Wheres the Pressure and temperature are approximately same for all the countries irrespective of their hemisphare. The major diffrence seen between India and US in Cloudiness and Visibility as both are interrelated so one is differ other will automatically differ. Lastly, the Temperature range from min to max is close for all the countries. And maximum coutries had the cloud weather followed by the second highest weather Clear. Also, Only India has the Haze weather but not seen rain at all.\n"
   ]
  },
  {
   "cell_type": "markdown",
   "metadata": {},
   "source": [
    "<h2>Fourth Analysis:<h2>"
   ]
  },
  {
   "cell_type": "markdown",
   "metadata": {},
   "source": [
    "## I have analysed the Sunrise and Sunset time in both the Hemisphare"
   ]
  },
  {
   "cell_type": "markdown",
   "metadata": {},
   "source": [
    "### First, I have plotted the Sunrise time recored in all the 4 coutries to analyse which country has the first sun rise. As the Eastern countries which are below the Equator will seen the Sun rise first than western coutries.  Below is the graph backing the same concept encountered in the given data:"
   ]
  },
  {
   "cell_type": "code",
   "execution_count": 582,
   "metadata": {},
   "outputs": [
    {
     "data": {
      "image/png": "[encoded data removed]",
      "text/plain": [
       "<matplotlib.figure.Figure at 0x25850fd49b0>"
      ]
     },
     "metadata": {},
     "output_type": "display_data"
    }
   ],
   "source": [
    "# plotting the Sunrise time as per the countries of both hemisphare\n",
    "fig, ax = plt.subplots(figsize=(10, 8)) # Fixing the figure size and positions\n",
    "plt.bar(weather_data[\"Country\"],weather_data[\"Sunrise_Time\"],align='center', alpha=.88, color='Blue')\n",
    "plt.title('Sun Rise time in both the hemisphare coutries') # putting the title\n",
    "plt.show()"
   ]
  },
  {
   "cell_type": "markdown",
   "metadata": {},
   "source": [
    "### As can be seeen from the above bar chart, New Zealand has the Sunrise first followed by the Australia and India. And latest Sun rise time shown in US. As New Zealand and Australia both are the Southern Hemisphare country and are below to the Equator. Moreover both are at the East side where Sun rises. On the other hand, India and US both are above th Equator and comparetivly at the west side from New zealand and Australia so the Sunrise is little late here. However, US is at the completely west side where sun rays reach at last so sun rise is very late in US. "
   ]
  },
  {
   "cell_type": "markdown",
   "metadata": {},
   "source": [
    "### Second, I have plotted the Sunset time recored in all the 4 coutries to analyse which country has the first sun set. As the Western countries which are above the Equator, sunset will be late as they are on the west side where sun sets. Below is the graph backing the same concept encountered in the given data:"
   ]
  },
  {
   "cell_type": "code",
   "execution_count": 585,
   "metadata": {},
   "outputs": [
    {
     "data": {
      "image/png": "[encoded data removed]",
      "text/plain": [
       "<matplotlib.figure.Figure at 0x2584f046e10>"
      ]
     },
     "metadata": {},
     "output_type": "display_data"
    }
   ],
   "source": [
    "# plotting the Sunset time as per the countries of both hemisphare\n",
    "fig, ax = plt.subplots(figsize=(10, 8)) # Fixing the figure size and positions\n",
    "plt.bar(weather_data[\"Country\"],weather_data[\"Sunset_Time\"],align='center', alpha=.88, color='Black')\n",
    "plt.title('Sun Set time in both the hemisphare coutries')\n",
    "plt.show()"
   ]
  },
  {
   "cell_type": "markdown",
   "metadata": {},
   "source": [
    "### As can be seeen from the above bar chart, US has the latest sunset time followed by India and Australia. Whereas New Zeland has the earliest time at which Sun sets. As India and US both belong to Northen Hemispahe and are above the equator. Moreover both are comparetivly at the west side from New zealand and Australia so the Sunset is little late here. However, US is at the completely west side where sun sets so sun set is very late in US. "
   ]
  },
  {
   "cell_type": "markdown",
   "metadata": {},
   "source": [
    "## Summary of this Analysis:- The Southern hemisphare Countries see the early sun rise and early sun set. Whereas the Northen Countries see the late sunrise and late sunset. "
   ]
  },
  {
   "cell_type": "markdown",
   "metadata": {},
   "source": [
    "<h2>Fifth Analysis:<h2>"
   ]
  },
  {
   "cell_type": "markdown",
   "metadata": {},
   "source": [
    "### I have analysed the percentage of weather type and plotted in the scatter plot. As per the data, the weather type cloud is the highest percentage wethaer type among all. As we have seen so far all the countries of both the hemisphare has maximum weather as Clouds and lowest as Drizzle or fog. "
   ]
  },
  {
   "cell_type": "code",
   "execution_count": 648,
   "metadata": {},
   "outputs": [
    {
     "data": {
      "text/plain": [
       "Text(0.5,1,'Weather Percentage')"
      ]
     },
     "execution_count": 648,
     "metadata": {},
     "output_type": "execute_result"
    },
    {
     "data": {
      "image/png": "[encoded data removed]",
      "text/plain": [
       "<matplotlib.figure.Figure at 0x258513d96d8>"
      ]
     },
     "metadata": {},
     "output_type": "display_data"
    }
   ],
   "source": [
    "# Plotting the scatter plot between weather type and their percentage\n",
    "plt.scatter(Wet_type,per, c=\"g\")\n",
    "plt.title(\"Weather Percentage\") # putting the title."
   ]
  },
  {
   "cell_type": "markdown",
   "metadata": {},
   "source": [
    "### As per the above analysis, the clouds is at the highest percentage weather followed by clear and rain then smoke. However, haze is very less weather type in all the countries. However, Drizzle and fog are not seen anywhere."
   ]
  },
  {
   "cell_type": "markdown",
   "metadata": {},
   "source": [
    "<h1>Final Analysis Summary and Conclusion:<h1>"
   ]
  },
  {
   "cell_type": "markdown",
   "metadata": {},
   "source": [
    "<h3>Summary:<h3>"
   ]
  },
  {
   "cell_type": "markdown",
   "metadata": {},
   "source": [
    "### I have taken the two data set from the current weather records API. The first dataset is fetched on 23th march 2018 and the second is fetched day after i.e. 24th March 2018. I have used these 2 data set to compare the weather change happen over the one day time period according to the parameters. My primary analysis is based on the weather condition in the countries present in the dataset. First, I have split the countries by the Equator line which divides the the countries geographally into 2 main parts which are Northen hemisphare and southern hemisphare. Northern Hemisphare has US and India and located above the Equator line. Southern Hemisphare has Australia and New Zeland located below the Equator line. To avoid the local parameters interferance, I have analysed the counties of the same Hemispahre first. And then compare both the hemisphare countries on the same parameters. As, my first 2 analysis is to compare the weather parameters of one day before and after the data recorded. And my remaining analysis is based on how parameters changes cause diffrent weather condition overs the diffrent geographical regions. Last analysis is the percentage of the weather type recorded for all the countries. "
   ]
  },
  {
   "cell_type": "markdown",
   "metadata": {},
   "source": [
    "<h3>Conclusion:<h3>"
   ]
  },
  {
   "cell_type": "markdown",
   "metadata": {},
   "source": [
    "### In all my analysis I have obesered that weather type is closely related to wind speed, temperature, Cloudiness and Humidity percentage.As if the cloudiness and wind speed (on surface) are high but humidity is low then there might be good chance of getting rain fall. So I found these parameters closly connected for weather type. Whereas, the visibility is more dependent on Cloudiness as if Cloudiness percentage is high, visibility will be high and vice versa. On the other hand, I have obesered how the Equator lines plays a vital role in weather condition world wide. And how even in the same Hemisphare, coutries shown diffrent weather condition due to underlying parameters on the top of their native parameters. Besides, the Estern counties which are in Southern Hemisphare got the early sun rise and sun set whereas Northen hemisphare Western countries got late sun rise and sunset. Lastly, the clouds weather is the highest type of weather in all around the countries. "
   ]
  },
  {
   "cell_type": "markdown",
   "metadata": {},
   "source": [
    "This analysis is based on the current data but I have wrote the code in a flexible manner so it can be reused in future by giving the API parameters. "
   ]
  },
  {
   "cell_type": "code",
   "execution_count": null,
   "metadata": {},
   "outputs": [],
   "source": []
  }
 ],
 "metadata": {
  "kernelspec": {
   "display_name": "Python 3",
   "language": "python",
   "name": "python3"
  },
  "language_info": {
   "codemirror_mode": {
    "name": "ipython",
    "version": 3
   },
   "file_extension": ".py",
   "mimetype": "text/x-python",
   "name": "python",
   "nbconvert_exporter": "python",
   "pygments_lexer": "ipython3",
   "version": "3.6.4"
  }
 },
 "nbformat": 4,
 "nbformat_minor": 2
}
